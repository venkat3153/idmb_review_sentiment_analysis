{
  "nbformat": 4,
  "nbformat_minor": 0,
  "metadata": {
    "colab": {
      "provenance": [],
      "authorship_tag": "ABX9TyNimExvBRtHMIew/uIz+tTP",
      "include_colab_link": true
    },
    "kernelspec": {
      "name": "python3",
      "display_name": "Python 3"
    },
    "language_info": {
      "name": "python"
    }
  },
  "cells": [
    {
      "cell_type": "markdown",
      "metadata": {
        "id": "view-in-github",
        "colab_type": "text"
      },
      "source": [
        "<a href=\"https://colab.research.google.com/github/lavanya957/imbd_reviews_sentiment_analysis/blob/main/IMBD_SENTIMENT_ANALYSISipynb.ipynb\" target=\"_parent\"><img src=\"https://colab.research.google.com/assets/colab-badge.svg\" alt=\"Open In Colab\"/></a>"
      ]
    },
    {
      "cell_type": "code",
      "execution_count": 2,
      "metadata": {
        "id": "YS2wkMfHar-5"
      },
      "outputs": [],
      "source": [
        "import pandas as pd\n",
        "import numpy as np"
      ]
    },
    {
      "cell_type": "markdown",
      "source": [
        "## **IMPORT DATASET**"
      ],
      "metadata": {
        "id": "7uxXDKmUkJ4p"
      }
    },
    {
      "cell_type": "code",
      "source": [
        "df=pd.read_csv(\"/content/IMDB Dataset.csv\", on_bad_lines='skip',engine=\"python\")"
      ],
      "metadata": {
        "id": "pHtWhcElc9Tk"
      },
      "execution_count": 9,
      "outputs": []
    },
    {
      "cell_type": "code",
      "source": [
        "df.head()"
      ],
      "metadata": {
        "colab": {
          "base_uri": "https://localhost:8080/",
          "height": 206
        },
        "id": "kCLsSIjSdBkI",
        "outputId": "7d2f301a-13c2-47ac-800b-9011f2b6c0c8"
      },
      "execution_count": 58,
      "outputs": [
        {
          "output_type": "execute_result",
          "data": {
            "text/plain": [
              "                                              review sentiment\n",
              "0  One of the other reviewers has mentioned that ...  positive\n",
              "1  A wonderful little production. <br /><br />The...  positive\n",
              "2  I thought this was a wonderful way to spend ti...  positive\n",
              "3  Basically there's a family where a little boy ...  negative\n",
              "4  Petter Mattei's \"Love in the Time of Money\" is...  positive"
            ],
            "text/html": [
              "\n",
              "  <div id=\"df-0f0a7ab4-8c22-47f6-b610-809a38091bb5\" class=\"colab-df-container\">\n",
              "    <div>\n",
              "<style scoped>\n",
              "    .dataframe tbody tr th:only-of-type {\n",
              "        vertical-align: middle;\n",
              "    }\n",
              "\n",
              "    .dataframe tbody tr th {\n",
              "        vertical-align: top;\n",
              "    }\n",
              "\n",
              "    .dataframe thead th {\n",
              "        text-align: right;\n",
              "    }\n",
              "</style>\n",
              "<table border=\"1\" class=\"dataframe\">\n",
              "  <thead>\n",
              "    <tr style=\"text-align: right;\">\n",
              "      <th></th>\n",
              "      <th>review</th>\n",
              "      <th>sentiment</th>\n",
              "    </tr>\n",
              "  </thead>\n",
              "  <tbody>\n",
              "    <tr>\n",
              "      <th>0</th>\n",
              "      <td>One of the other reviewers has mentioned that ...</td>\n",
              "      <td>positive</td>\n",
              "    </tr>\n",
              "    <tr>\n",
              "      <th>1</th>\n",
              "      <td>A wonderful little production. &lt;br /&gt;&lt;br /&gt;The...</td>\n",
              "      <td>positive</td>\n",
              "    </tr>\n",
              "    <tr>\n",
              "      <th>2</th>\n",
              "      <td>I thought this was a wonderful way to spend ti...</td>\n",
              "      <td>positive</td>\n",
              "    </tr>\n",
              "    <tr>\n",
              "      <th>3</th>\n",
              "      <td>Basically there's a family where a little boy ...</td>\n",
              "      <td>negative</td>\n",
              "    </tr>\n",
              "    <tr>\n",
              "      <th>4</th>\n",
              "      <td>Petter Mattei's \"Love in the Time of Money\" is...</td>\n",
              "      <td>positive</td>\n",
              "    </tr>\n",
              "  </tbody>\n",
              "</table>\n",
              "</div>\n",
              "    <div class=\"colab-df-buttons\">\n",
              "\n",
              "  <div class=\"colab-df-container\">\n",
              "    <button class=\"colab-df-convert\" onclick=\"convertToInteractive('df-0f0a7ab4-8c22-47f6-b610-809a38091bb5')\"\n",
              "            title=\"Convert this dataframe to an interactive table.\"\n",
              "            style=\"display:none;\">\n",
              "\n",
              "  <svg xmlns=\"http://www.w3.org/2000/svg\" height=\"24px\" viewBox=\"0 -960 960 960\">\n",
              "    <path d=\"M120-120v-720h720v720H120Zm60-500h600v-160H180v160Zm220 220h160v-160H400v160Zm0 220h160v-160H400v160ZM180-400h160v-160H180v160Zm440 0h160v-160H620v160ZM180-180h160v-160H180v160Zm440 0h160v-160H620v160Z\"/>\n",
              "  </svg>\n",
              "    </button>\n",
              "\n",
              "  <style>\n",
              "    .colab-df-container {\n",
              "      display:flex;\n",
              "      gap: 12px;\n",
              "    }\n",
              "\n",
              "    .colab-df-convert {\n",
              "      background-color: #E8F0FE;\n",
              "      border: none;\n",
              "      border-radius: 50%;\n",
              "      cursor: pointer;\n",
              "      display: none;\n",
              "      fill: #1967D2;\n",
              "      height: 32px;\n",
              "      padding: 0 0 0 0;\n",
              "      width: 32px;\n",
              "    }\n",
              "\n",
              "    .colab-df-convert:hover {\n",
              "      background-color: #E2EBFA;\n",
              "      box-shadow: 0px 1px 2px rgba(60, 64, 67, 0.3), 0px 1px 3px 1px rgba(60, 64, 67, 0.15);\n",
              "      fill: #174EA6;\n",
              "    }\n",
              "\n",
              "    .colab-df-buttons div {\n",
              "      margin-bottom: 4px;\n",
              "    }\n",
              "\n",
              "    [theme=dark] .colab-df-convert {\n",
              "      background-color: #3B4455;\n",
              "      fill: #D2E3FC;\n",
              "    }\n",
              "\n",
              "    [theme=dark] .colab-df-convert:hover {\n",
              "      background-color: #434B5C;\n",
              "      box-shadow: 0px 1px 3px 1px rgba(0, 0, 0, 0.15);\n",
              "      filter: drop-shadow(0px 1px 2px rgba(0, 0, 0, 0.3));\n",
              "      fill: #FFFFFF;\n",
              "    }\n",
              "  </style>\n",
              "\n",
              "    <script>\n",
              "      const buttonEl =\n",
              "        document.querySelector('#df-0f0a7ab4-8c22-47f6-b610-809a38091bb5 button.colab-df-convert');\n",
              "      buttonEl.style.display =\n",
              "        google.colab.kernel.accessAllowed ? 'block' : 'none';\n",
              "\n",
              "      async function convertToInteractive(key) {\n",
              "        const element = document.querySelector('#df-0f0a7ab4-8c22-47f6-b610-809a38091bb5');\n",
              "        const dataTable =\n",
              "          await google.colab.kernel.invokeFunction('convertToInteractive',\n",
              "                                                    [key], {});\n",
              "        if (!dataTable) return;\n",
              "\n",
              "        const docLinkHtml = 'Like what you see? Visit the ' +\n",
              "          '<a target=\"_blank\" href=https://colab.research.google.com/notebooks/data_table.ipynb>data table notebook</a>'\n",
              "          + ' to learn more about interactive tables.';\n",
              "        element.innerHTML = '';\n",
              "        dataTable['output_type'] = 'display_data';\n",
              "        await google.colab.output.renderOutput(dataTable, element);\n",
              "        const docLink = document.createElement('div');\n",
              "        docLink.innerHTML = docLinkHtml;\n",
              "        element.appendChild(docLink);\n",
              "      }\n",
              "    </script>\n",
              "  </div>\n",
              "\n",
              "\n",
              "<div id=\"df-06e8aaf6-239e-48b3-b4d7-5fa2951da17c\">\n",
              "  <button class=\"colab-df-quickchart\" onclick=\"quickchart('df-06e8aaf6-239e-48b3-b4d7-5fa2951da17c')\"\n",
              "            title=\"Suggest charts.\"\n",
              "            style=\"display:none;\">\n",
              "\n",
              "<svg xmlns=\"http://www.w3.org/2000/svg\" height=\"24px\"viewBox=\"0 0 24 24\"\n",
              "     width=\"24px\">\n",
              "    <g>\n",
              "        <path d=\"M19 3H5c-1.1 0-2 .9-2 2v14c0 1.1.9 2 2 2h14c1.1 0 2-.9 2-2V5c0-1.1-.9-2-2-2zM9 17H7v-7h2v7zm4 0h-2V7h2v10zm4 0h-2v-4h2v4z\"/>\n",
              "    </g>\n",
              "</svg>\n",
              "  </button>\n",
              "\n",
              "<style>\n",
              "  .colab-df-quickchart {\n",
              "    background-color: #E8F0FE;\n",
              "    border: none;\n",
              "    border-radius: 50%;\n",
              "    cursor: pointer;\n",
              "    display: none;\n",
              "    fill: #1967D2;\n",
              "    height: 32px;\n",
              "    padding: 0 0 0 0;\n",
              "    width: 32px;\n",
              "  }\n",
              "\n",
              "  .colab-df-quickchart:hover {\n",
              "    background-color: #E2EBFA;\n",
              "    box-shadow: 0px 1px 2px rgba(60, 64, 67, 0.3), 0px 1px 3px 1px rgba(60, 64, 67, 0.15);\n",
              "    fill: #174EA6;\n",
              "  }\n",
              "\n",
              "  [theme=dark] .colab-df-quickchart {\n",
              "    background-color: #3B4455;\n",
              "    fill: #D2E3FC;\n",
              "  }\n",
              "\n",
              "  [theme=dark] .colab-df-quickchart:hover {\n",
              "    background-color: #434B5C;\n",
              "    box-shadow: 0px 1px 3px 1px rgba(0, 0, 0, 0.15);\n",
              "    filter: drop-shadow(0px 1px 2px rgba(0, 0, 0, 0.3));\n",
              "    fill: #FFFFFF;\n",
              "  }\n",
              "</style>\n",
              "\n",
              "  <script>\n",
              "    async function quickchart(key) {\n",
              "      const charts = await google.colab.kernel.invokeFunction(\n",
              "          'suggestCharts', [key], {});\n",
              "    }\n",
              "    (() => {\n",
              "      let quickchartButtonEl =\n",
              "        document.querySelector('#df-06e8aaf6-239e-48b3-b4d7-5fa2951da17c button');\n",
              "      quickchartButtonEl.style.display =\n",
              "        google.colab.kernel.accessAllowed ? 'block' : 'none';\n",
              "    })();\n",
              "  </script>\n",
              "</div>\n",
              "    </div>\n",
              "  </div>\n"
            ]
          },
          "metadata": {},
          "execution_count": 58
        }
      ]
    },
    {
      "cell_type": "code",
      "source": [
        "df.shape"
      ],
      "metadata": {
        "colab": {
          "base_uri": "https://localhost:8080/"
        },
        "id": "_DuewLJMdabc",
        "outputId": "959a4c34-2fc7-4717-85d4-a43cfc42ace8"
      },
      "execution_count": 10,
      "outputs": [
        {
          "output_type": "execute_result",
          "data": {
            "text/plain": [
              "(3980, 2)"
            ]
          },
          "metadata": {},
          "execution_count": 10
        }
      ]
    },
    {
      "cell_type": "markdown",
      "source": [
        "# **CLEANING AND PREPROCESSING**"
      ],
      "metadata": {
        "id": "KAmJffKfmelO"
      }
    },
    {
      "cell_type": "code",
      "source": [
        "import re\n",
        "\n",
        "replace_no_space=re.compile(\"[.;:!\\'?,\\\"()\\[\\]]\")\n",
        "replace_with_space=re.compile(\"(<br\\s*/><br\\s*/>)|(\\-)|(\\/)\")\n",
        "def preprocess_reviews(reviews):\n",
        "  reviews=[replace_no_space.sub(\"\",line.lower()) for line in reviews]\n",
        "  reviews=[replace_with_space.sub(\" \",line) for line in reviews]\n",
        "\n",
        "  return \"\".join(reviews)\n",
        "\n",
        "df[\"review\"]=df[\"review\"].apply(preprocess_reviews)\n",
        "\n"
      ],
      "metadata": {
        "id": "ck8irWtbmPe8"
      },
      "execution_count": 11,
      "outputs": []
    },
    {
      "cell_type": "code",
      "source": [
        "df.head()"
      ],
      "metadata": {
        "colab": {
          "base_uri": "https://localhost:8080/",
          "height": 206
        },
        "id": "fN3sEQNooboY",
        "outputId": "55e22784-0c6b-4da5-d6fe-3f87e3f15855"
      },
      "execution_count": 14,
      "outputs": [
        {
          "output_type": "execute_result",
          "data": {
            "text/plain": [
              "                                              review sentiment\n",
              "0  one of the other reviewers has mentioned that ...  positive\n",
              "1  a wonderful little production <br  ><br  >the ...  positive\n",
              "2  i thought this was a wonderful way to spend ti...  positive\n",
              "3  basically theres a family where a little boy j...  negative\n",
              "4  petter matteis love in the time of money is a ...  positive"
            ],
            "text/html": [
              "\n",
              "  <div id=\"df-bf39aed2-6ad0-4172-aaf4-e6cc24a4653f\" class=\"colab-df-container\">\n",
              "    <div>\n",
              "<style scoped>\n",
              "    .dataframe tbody tr th:only-of-type {\n",
              "        vertical-align: middle;\n",
              "    }\n",
              "\n",
              "    .dataframe tbody tr th {\n",
              "        vertical-align: top;\n",
              "    }\n",
              "\n",
              "    .dataframe thead th {\n",
              "        text-align: right;\n",
              "    }\n",
              "</style>\n",
              "<table border=\"1\" class=\"dataframe\">\n",
              "  <thead>\n",
              "    <tr style=\"text-align: right;\">\n",
              "      <th></th>\n",
              "      <th>review</th>\n",
              "      <th>sentiment</th>\n",
              "    </tr>\n",
              "  </thead>\n",
              "  <tbody>\n",
              "    <tr>\n",
              "      <th>0</th>\n",
              "      <td>one of the other reviewers has mentioned that ...</td>\n",
              "      <td>positive</td>\n",
              "    </tr>\n",
              "    <tr>\n",
              "      <th>1</th>\n",
              "      <td>a wonderful little production &lt;br  &gt;&lt;br  &gt;the ...</td>\n",
              "      <td>positive</td>\n",
              "    </tr>\n",
              "    <tr>\n",
              "      <th>2</th>\n",
              "      <td>i thought this was a wonderful way to spend ti...</td>\n",
              "      <td>positive</td>\n",
              "    </tr>\n",
              "    <tr>\n",
              "      <th>3</th>\n",
              "      <td>basically theres a family where a little boy j...</td>\n",
              "      <td>negative</td>\n",
              "    </tr>\n",
              "    <tr>\n",
              "      <th>4</th>\n",
              "      <td>petter matteis love in the time of money is a ...</td>\n",
              "      <td>positive</td>\n",
              "    </tr>\n",
              "  </tbody>\n",
              "</table>\n",
              "</div>\n",
              "    <div class=\"colab-df-buttons\">\n",
              "\n",
              "  <div class=\"colab-df-container\">\n",
              "    <button class=\"colab-df-convert\" onclick=\"convertToInteractive('df-bf39aed2-6ad0-4172-aaf4-e6cc24a4653f')\"\n",
              "            title=\"Convert this dataframe to an interactive table.\"\n",
              "            style=\"display:none;\">\n",
              "\n",
              "  <svg xmlns=\"http://www.w3.org/2000/svg\" height=\"24px\" viewBox=\"0 -960 960 960\">\n",
              "    <path d=\"M120-120v-720h720v720H120Zm60-500h600v-160H180v160Zm220 220h160v-160H400v160Zm0 220h160v-160H400v160ZM180-400h160v-160H180v160Zm440 0h160v-160H620v160ZM180-180h160v-160H180v160Zm440 0h160v-160H620v160Z\"/>\n",
              "  </svg>\n",
              "    </button>\n",
              "\n",
              "  <style>\n",
              "    .colab-df-container {\n",
              "      display:flex;\n",
              "      gap: 12px;\n",
              "    }\n",
              "\n",
              "    .colab-df-convert {\n",
              "      background-color: #E8F0FE;\n",
              "      border: none;\n",
              "      border-radius: 50%;\n",
              "      cursor: pointer;\n",
              "      display: none;\n",
              "      fill: #1967D2;\n",
              "      height: 32px;\n",
              "      padding: 0 0 0 0;\n",
              "      width: 32px;\n",
              "    }\n",
              "\n",
              "    .colab-df-convert:hover {\n",
              "      background-color: #E2EBFA;\n",
              "      box-shadow: 0px 1px 2px rgba(60, 64, 67, 0.3), 0px 1px 3px 1px rgba(60, 64, 67, 0.15);\n",
              "      fill: #174EA6;\n",
              "    }\n",
              "\n",
              "    .colab-df-buttons div {\n",
              "      margin-bottom: 4px;\n",
              "    }\n",
              "\n",
              "    [theme=dark] .colab-df-convert {\n",
              "      background-color: #3B4455;\n",
              "      fill: #D2E3FC;\n",
              "    }\n",
              "\n",
              "    [theme=dark] .colab-df-convert:hover {\n",
              "      background-color: #434B5C;\n",
              "      box-shadow: 0px 1px 3px 1px rgba(0, 0, 0, 0.15);\n",
              "      filter: drop-shadow(0px 1px 2px rgba(0, 0, 0, 0.3));\n",
              "      fill: #FFFFFF;\n",
              "    }\n",
              "  </style>\n",
              "\n",
              "    <script>\n",
              "      const buttonEl =\n",
              "        document.querySelector('#df-bf39aed2-6ad0-4172-aaf4-e6cc24a4653f button.colab-df-convert');\n",
              "      buttonEl.style.display =\n",
              "        google.colab.kernel.accessAllowed ? 'block' : 'none';\n",
              "\n",
              "      async function convertToInteractive(key) {\n",
              "        const element = document.querySelector('#df-bf39aed2-6ad0-4172-aaf4-e6cc24a4653f');\n",
              "        const dataTable =\n",
              "          await google.colab.kernel.invokeFunction('convertToInteractive',\n",
              "                                                    [key], {});\n",
              "        if (!dataTable) return;\n",
              "\n",
              "        const docLinkHtml = 'Like what you see? Visit the ' +\n",
              "          '<a target=\"_blank\" href=https://colab.research.google.com/notebooks/data_table.ipynb>data table notebook</a>'\n",
              "          + ' to learn more about interactive tables.';\n",
              "        element.innerHTML = '';\n",
              "        dataTable['output_type'] = 'display_data';\n",
              "        await google.colab.output.renderOutput(dataTable, element);\n",
              "        const docLink = document.createElement('div');\n",
              "        docLink.innerHTML = docLinkHtml;\n",
              "        element.appendChild(docLink);\n",
              "      }\n",
              "    </script>\n",
              "  </div>\n",
              "\n",
              "\n",
              "<div id=\"df-5d57621f-0e1f-41d7-a759-43d44608e39d\">\n",
              "  <button class=\"colab-df-quickchart\" onclick=\"quickchart('df-5d57621f-0e1f-41d7-a759-43d44608e39d')\"\n",
              "            title=\"Suggest charts.\"\n",
              "            style=\"display:none;\">\n",
              "\n",
              "<svg xmlns=\"http://www.w3.org/2000/svg\" height=\"24px\"viewBox=\"0 0 24 24\"\n",
              "     width=\"24px\">\n",
              "    <g>\n",
              "        <path d=\"M19 3H5c-1.1 0-2 .9-2 2v14c0 1.1.9 2 2 2h14c1.1 0 2-.9 2-2V5c0-1.1-.9-2-2-2zM9 17H7v-7h2v7zm4 0h-2V7h2v10zm4 0h-2v-4h2v4z\"/>\n",
              "    </g>\n",
              "</svg>\n",
              "  </button>\n",
              "\n",
              "<style>\n",
              "  .colab-df-quickchart {\n",
              "    background-color: #E8F0FE;\n",
              "    border: none;\n",
              "    border-radius: 50%;\n",
              "    cursor: pointer;\n",
              "    display: none;\n",
              "    fill: #1967D2;\n",
              "    height: 32px;\n",
              "    padding: 0 0 0 0;\n",
              "    width: 32px;\n",
              "  }\n",
              "\n",
              "  .colab-df-quickchart:hover {\n",
              "    background-color: #E2EBFA;\n",
              "    box-shadow: 0px 1px 2px rgba(60, 64, 67, 0.3), 0px 1px 3px 1px rgba(60, 64, 67, 0.15);\n",
              "    fill: #174EA6;\n",
              "  }\n",
              "\n",
              "  [theme=dark] .colab-df-quickchart {\n",
              "    background-color: #3B4455;\n",
              "    fill: #D2E3FC;\n",
              "  }\n",
              "\n",
              "  [theme=dark] .colab-df-quickchart:hover {\n",
              "    background-color: #434B5C;\n",
              "    box-shadow: 0px 1px 3px 1px rgba(0, 0, 0, 0.15);\n",
              "    filter: drop-shadow(0px 1px 2px rgba(0, 0, 0, 0.3));\n",
              "    fill: #FFFFFF;\n",
              "  }\n",
              "</style>\n",
              "\n",
              "  <script>\n",
              "    async function quickchart(key) {\n",
              "      const charts = await google.colab.kernel.invokeFunction(\n",
              "          'suggestCharts', [key], {});\n",
              "    }\n",
              "    (() => {\n",
              "      let quickchartButtonEl =\n",
              "        document.querySelector('#df-5d57621f-0e1f-41d7-a759-43d44608e39d button');\n",
              "      quickchartButtonEl.style.display =\n",
              "        google.colab.kernel.accessAllowed ? 'block' : 'none';\n",
              "    })();\n",
              "  </script>\n",
              "</div>\n",
              "    </div>\n",
              "  </div>\n"
            ]
          },
          "metadata": {},
          "execution_count": 14
        }
      ]
    },
    {
      "cell_type": "code",
      "source": [
        "df.sentiment.replace(\"positive\",1,inplace=True)\n",
        "df.sentiment.replace(\"negative\",0,inplace=True)"
      ],
      "metadata": {
        "id": "-A49Z5-JoffD"
      },
      "execution_count": 12,
      "outputs": []
    },
    {
      "cell_type": "code",
      "source": [
        "df.head()"
      ],
      "metadata": {
        "colab": {
          "base_uri": "https://localhost:8080/",
          "height": 206
        },
        "id": "xAK5_MTfuxKY",
        "outputId": "9eaf9991-3ec3-4db6-b22c-aa8c45cc4fc8"
      },
      "execution_count": 16,
      "outputs": [
        {
          "output_type": "execute_result",
          "data": {
            "text/plain": [
              "                                              review  sentiment\n",
              "0  one of the other reviewers has mentioned that ...          1\n",
              "1  a wonderful little production <br  ><br  >the ...          1\n",
              "2  i thought this was a wonderful way to spend ti...          1\n",
              "3  basically theres a family where a little boy j...          0\n",
              "4  petter matteis love in the time of money is a ...          1"
            ],
            "text/html": [
              "\n",
              "  <div id=\"df-561373f5-c978-46e1-8c77-c2d5b04d6d03\" class=\"colab-df-container\">\n",
              "    <div>\n",
              "<style scoped>\n",
              "    .dataframe tbody tr th:only-of-type {\n",
              "        vertical-align: middle;\n",
              "    }\n",
              "\n",
              "    .dataframe tbody tr th {\n",
              "        vertical-align: top;\n",
              "    }\n",
              "\n",
              "    .dataframe thead th {\n",
              "        text-align: right;\n",
              "    }\n",
              "</style>\n",
              "<table border=\"1\" class=\"dataframe\">\n",
              "  <thead>\n",
              "    <tr style=\"text-align: right;\">\n",
              "      <th></th>\n",
              "      <th>review</th>\n",
              "      <th>sentiment</th>\n",
              "    </tr>\n",
              "  </thead>\n",
              "  <tbody>\n",
              "    <tr>\n",
              "      <th>0</th>\n",
              "      <td>one of the other reviewers has mentioned that ...</td>\n",
              "      <td>1</td>\n",
              "    </tr>\n",
              "    <tr>\n",
              "      <th>1</th>\n",
              "      <td>a wonderful little production &lt;br  &gt;&lt;br  &gt;the ...</td>\n",
              "      <td>1</td>\n",
              "    </tr>\n",
              "    <tr>\n",
              "      <th>2</th>\n",
              "      <td>i thought this was a wonderful way to spend ti...</td>\n",
              "      <td>1</td>\n",
              "    </tr>\n",
              "    <tr>\n",
              "      <th>3</th>\n",
              "      <td>basically theres a family where a little boy j...</td>\n",
              "      <td>0</td>\n",
              "    </tr>\n",
              "    <tr>\n",
              "      <th>4</th>\n",
              "      <td>petter matteis love in the time of money is a ...</td>\n",
              "      <td>1</td>\n",
              "    </tr>\n",
              "  </tbody>\n",
              "</table>\n",
              "</div>\n",
              "    <div class=\"colab-df-buttons\">\n",
              "\n",
              "  <div class=\"colab-df-container\">\n",
              "    <button class=\"colab-df-convert\" onclick=\"convertToInteractive('df-561373f5-c978-46e1-8c77-c2d5b04d6d03')\"\n",
              "            title=\"Convert this dataframe to an interactive table.\"\n",
              "            style=\"display:none;\">\n",
              "\n",
              "  <svg xmlns=\"http://www.w3.org/2000/svg\" height=\"24px\" viewBox=\"0 -960 960 960\">\n",
              "    <path d=\"M120-120v-720h720v720H120Zm60-500h600v-160H180v160Zm220 220h160v-160H400v160Zm0 220h160v-160H400v160ZM180-400h160v-160H180v160Zm440 0h160v-160H620v160ZM180-180h160v-160H180v160Zm440 0h160v-160H620v160Z\"/>\n",
              "  </svg>\n",
              "    </button>\n",
              "\n",
              "  <style>\n",
              "    .colab-df-container {\n",
              "      display:flex;\n",
              "      gap: 12px;\n",
              "    }\n",
              "\n",
              "    .colab-df-convert {\n",
              "      background-color: #E8F0FE;\n",
              "      border: none;\n",
              "      border-radius: 50%;\n",
              "      cursor: pointer;\n",
              "      display: none;\n",
              "      fill: #1967D2;\n",
              "      height: 32px;\n",
              "      padding: 0 0 0 0;\n",
              "      width: 32px;\n",
              "    }\n",
              "\n",
              "    .colab-df-convert:hover {\n",
              "      background-color: #E2EBFA;\n",
              "      box-shadow: 0px 1px 2px rgba(60, 64, 67, 0.3), 0px 1px 3px 1px rgba(60, 64, 67, 0.15);\n",
              "      fill: #174EA6;\n",
              "    }\n",
              "\n",
              "    .colab-df-buttons div {\n",
              "      margin-bottom: 4px;\n",
              "    }\n",
              "\n",
              "    [theme=dark] .colab-df-convert {\n",
              "      background-color: #3B4455;\n",
              "      fill: #D2E3FC;\n",
              "    }\n",
              "\n",
              "    [theme=dark] .colab-df-convert:hover {\n",
              "      background-color: #434B5C;\n",
              "      box-shadow: 0px 1px 3px 1px rgba(0, 0, 0, 0.15);\n",
              "      filter: drop-shadow(0px 1px 2px rgba(0, 0, 0, 0.3));\n",
              "      fill: #FFFFFF;\n",
              "    }\n",
              "  </style>\n",
              "\n",
              "    <script>\n",
              "      const buttonEl =\n",
              "        document.querySelector('#df-561373f5-c978-46e1-8c77-c2d5b04d6d03 button.colab-df-convert');\n",
              "      buttonEl.style.display =\n",
              "        google.colab.kernel.accessAllowed ? 'block' : 'none';\n",
              "\n",
              "      async function convertToInteractive(key) {\n",
              "        const element = document.querySelector('#df-561373f5-c978-46e1-8c77-c2d5b04d6d03');\n",
              "        const dataTable =\n",
              "          await google.colab.kernel.invokeFunction('convertToInteractive',\n",
              "                                                    [key], {});\n",
              "        if (!dataTable) return;\n",
              "\n",
              "        const docLinkHtml = 'Like what you see? Visit the ' +\n",
              "          '<a target=\"_blank\" href=https://colab.research.google.com/notebooks/data_table.ipynb>data table notebook</a>'\n",
              "          + ' to learn more about interactive tables.';\n",
              "        element.innerHTML = '';\n",
              "        dataTable['output_type'] = 'display_data';\n",
              "        await google.colab.output.renderOutput(dataTable, element);\n",
              "        const docLink = document.createElement('div');\n",
              "        docLink.innerHTML = docLinkHtml;\n",
              "        element.appendChild(docLink);\n",
              "      }\n",
              "    </script>\n",
              "  </div>\n",
              "\n",
              "\n",
              "<div id=\"df-1f2d094d-50ad-4134-a611-a4d218851742\">\n",
              "  <button class=\"colab-df-quickchart\" onclick=\"quickchart('df-1f2d094d-50ad-4134-a611-a4d218851742')\"\n",
              "            title=\"Suggest charts.\"\n",
              "            style=\"display:none;\">\n",
              "\n",
              "<svg xmlns=\"http://www.w3.org/2000/svg\" height=\"24px\"viewBox=\"0 0 24 24\"\n",
              "     width=\"24px\">\n",
              "    <g>\n",
              "        <path d=\"M19 3H5c-1.1 0-2 .9-2 2v14c0 1.1.9 2 2 2h14c1.1 0 2-.9 2-2V5c0-1.1-.9-2-2-2zM9 17H7v-7h2v7zm4 0h-2V7h2v10zm4 0h-2v-4h2v4z\"/>\n",
              "    </g>\n",
              "</svg>\n",
              "  </button>\n",
              "\n",
              "<style>\n",
              "  .colab-df-quickchart {\n",
              "    background-color: #E8F0FE;\n",
              "    border: none;\n",
              "    border-radius: 50%;\n",
              "    cursor: pointer;\n",
              "    display: none;\n",
              "    fill: #1967D2;\n",
              "    height: 32px;\n",
              "    padding: 0 0 0 0;\n",
              "    width: 32px;\n",
              "  }\n",
              "\n",
              "  .colab-df-quickchart:hover {\n",
              "    background-color: #E2EBFA;\n",
              "    box-shadow: 0px 1px 2px rgba(60, 64, 67, 0.3), 0px 1px 3px 1px rgba(60, 64, 67, 0.15);\n",
              "    fill: #174EA6;\n",
              "  }\n",
              "\n",
              "  [theme=dark] .colab-df-quickchart {\n",
              "    background-color: #3B4455;\n",
              "    fill: #D2E3FC;\n",
              "  }\n",
              "\n",
              "  [theme=dark] .colab-df-quickchart:hover {\n",
              "    background-color: #434B5C;\n",
              "    box-shadow: 0px 1px 3px 1px rgba(0, 0, 0, 0.15);\n",
              "    filter: drop-shadow(0px 1px 2px rgba(0, 0, 0, 0.3));\n",
              "    fill: #FFFFFF;\n",
              "  }\n",
              "</style>\n",
              "\n",
              "  <script>\n",
              "    async function quickchart(key) {\n",
              "      const charts = await google.colab.kernel.invokeFunction(\n",
              "          'suggestCharts', [key], {});\n",
              "    }\n",
              "    (() => {\n",
              "      let quickchartButtonEl =\n",
              "        document.querySelector('#df-1f2d094d-50ad-4134-a611-a4d218851742 button');\n",
              "      quickchartButtonEl.style.display =\n",
              "        google.colab.kernel.accessAllowed ? 'block' : 'none';\n",
              "    })();\n",
              "  </script>\n",
              "</div>\n",
              "    </div>\n",
              "  </div>\n"
            ]
          },
          "metadata": {},
          "execution_count": 16
        }
      ]
    },
    {
      "cell_type": "markdown",
      "source": [
        "# **SPLITING INTO TRAIN DATA AND TEST DATA**"
      ],
      "metadata": {
        "id": "IojrHps5vhAX"
      }
    },
    {
      "cell_type": "code",
      "source": [
        "from sklearn.model_selection import train_test_split"
      ],
      "metadata": {
        "id": "4YzqJ3ZXuyvn"
      },
      "execution_count": 13,
      "outputs": []
    },
    {
      "cell_type": "code",
      "source": [
        "x=df[\"review\"]\n",
        "y=df[\"sentiment\"]"
      ],
      "metadata": {
        "id": "717ySSU7vozz"
      },
      "execution_count": 14,
      "outputs": []
    },
    {
      "cell_type": "code",
      "source": [
        "x.head()"
      ],
      "metadata": {
        "colab": {
          "base_uri": "https://localhost:8080/"
        },
        "id": "ioqE6aapd0bO",
        "outputId": "f8407362-c6d2-4401-a07d-b24d09cac07d"
      },
      "execution_count": 15,
      "outputs": [
        {
          "output_type": "execute_result",
          "data": {
            "text/plain": [
              "0    one of the other reviewers has mentioned that ...\n",
              "1    a wonderful little production <br  ><br  >the ...\n",
              "2    i thought this was a wonderful way to spend ti...\n",
              "3    basically theres a family where a little boy j...\n",
              "4    petter matteis love in the time of money is a ...\n",
              "Name: review, dtype: object"
            ]
          },
          "metadata": {},
          "execution_count": 15
        }
      ]
    },
    {
      "cell_type": "code",
      "source": [
        "x_train,x_test,y_train,y_test=train_test_split(x,y,test_size=0.25,random_state=1)"
      ],
      "metadata": {
        "id": "Uy09m_tRvwFw"
      },
      "execution_count": 16,
      "outputs": []
    },
    {
      "cell_type": "code",
      "source": [
        "x_train.shape"
      ],
      "metadata": {
        "colab": {
          "base_uri": "https://localhost:8080/"
        },
        "id": "f6VbThM8v5fZ",
        "outputId": "8b5bfff0-ea1f-4486-fcd1-86396c132de9"
      },
      "execution_count": 17,
      "outputs": [
        {
          "output_type": "execute_result",
          "data": {
            "text/plain": [
              "(2985,)"
            ]
          },
          "metadata": {},
          "execution_count": 17
        }
      ]
    },
    {
      "cell_type": "code",
      "source": [
        "y_train.shape"
      ],
      "metadata": {
        "colab": {
          "base_uri": "https://localhost:8080/"
        },
        "id": "yPOdHXImwHFa",
        "outputId": "34c98a18-192f-4265-d375-95f6dde7191b"
      },
      "execution_count": 18,
      "outputs": [
        {
          "output_type": "execute_result",
          "data": {
            "text/plain": [
              "(2985,)"
            ]
          },
          "metadata": {},
          "execution_count": 18
        }
      ]
    },
    {
      "cell_type": "code",
      "source": [
        "x_train.head()"
      ],
      "metadata": {
        "colab": {
          "base_uri": "https://localhost:8080/"
        },
        "id": "LjGjZr2xwKXC",
        "outputId": "97566cb4-8180-4712-a963-ea733e685b98"
      },
      "execution_count": 19,
      "outputs": [
        {
          "output_type": "execute_result",
          "data": {
            "text/plain": [
              "996     i hated it i hate self aware pretentious inani...\n",
              "2264    the penultimate episode of star treks third se...\n",
              "592     as is often the case when you attempt to take ...\n",
              "3227    i was forced to read this sappy love story bet...\n",
              "2619    many other viewers are saying that this is not...\n",
              "Name: review, dtype: object"
            ]
          },
          "metadata": {},
          "execution_count": 19
        }
      ]
    },
    {
      "cell_type": "code",
      "source": [
        "x_test.head()"
      ],
      "metadata": {
        "colab": {
          "base_uri": "https://localhost:8080/"
        },
        "id": "HgCrwIuljYem",
        "outputId": "1d8aadbb-9194-407e-c65a-fa0347b2a597"
      },
      "execution_count": 20,
      "outputs": [
        {
          "output_type": "execute_result",
          "data": {
            "text/plain": [
              "187     while i count myself as a fan of the babylon 5...\n",
              "1380    this movie which i just discovered at the vide...\n",
              "1550    <br  ><br  >i saw the glacier fox in the theat...\n",
              "364     it got to be a running joke around bonanza abo...\n",
              "2346    water lilies is a well made first film from fr...\n",
              "Name: review, dtype: object"
            ]
          },
          "metadata": {},
          "execution_count": 20
        }
      ]
    },
    {
      "cell_type": "code",
      "source": [
        "y_train.head()"
      ],
      "metadata": {
        "colab": {
          "base_uri": "https://localhost:8080/"
        },
        "id": "u1Zc_qe0wMnb",
        "outputId": "6e3e497c-8f58-46d0-fb75-45673a7c3f98"
      },
      "execution_count": 21,
      "outputs": [
        {
          "output_type": "execute_result",
          "data": {
            "text/plain": [
              "996     0\n",
              "2264    1\n",
              "592     1\n",
              "3227    0\n",
              "2619    1\n",
              "Name: sentiment, dtype: int64"
            ]
          },
          "metadata": {},
          "execution_count": 21
        }
      ]
    },
    {
      "cell_type": "code",
      "source": [
        "y_test.head()"
      ],
      "metadata": {
        "colab": {
          "base_uri": "https://localhost:8080/"
        },
        "id": "TSQ4r7sqjdfn",
        "outputId": "272a8209-c9a1-47c8-e493-51ede2bd574f"
      },
      "execution_count": 22,
      "outputs": [
        {
          "output_type": "execute_result",
          "data": {
            "text/plain": [
              "187     0\n",
              "1380    0\n",
              "1550    1\n",
              "364     1\n",
              "2346    1\n",
              "Name: sentiment, dtype: int64"
            ]
          },
          "metadata": {},
          "execution_count": 22
        }
      ]
    },
    {
      "cell_type": "code",
      "source": [
        "from sklearn.feature_extraction.text import CountVectorizer\n",
        "\n",
        "cv=CountVectorizer(binary=True)\n",
        "cv.fit(x_train)\n",
        "x_cv=cv.transform(x_train)\n",
        "x_test_cv=cv.transform(x_test)"
      ],
      "metadata": {
        "id": "UuOcJQ6CwQbt"
      },
      "execution_count": 24,
      "outputs": []
    },
    {
      "cell_type": "markdown",
      "source": [
        "# **BUILD CLASSIFIER**"
      ],
      "metadata": {
        "id": "cTltI4p7xY4k"
      }
    },
    {
      "cell_type": "code",
      "source": [
        "from sklearn.linear_model import LogisticRegression\n",
        "from sklearn.metrics import accuracy_score\n",
        "\n",
        "x_train_cv,x_val,y_train_cv,y_val=train_test_split(x_cv,y_train,train_size=0.75)\n",
        "\n",
        "for c in [0.01,0.05,0.25,0.5,1]:\n",
        "  lr=LogisticRegression(C=c,solver=\"lbfgs\",max_iter=1000)\n",
        "  lr.fit(x_train_cv,y_train_cv)\n",
        "  print(\"Accuracy for C=%s: %s\" % (c,accuracy_score(y_val,lr.predict(x_val))))\n",
        "\n",
        "\n"
      ],
      "metadata": {
        "colab": {
          "base_uri": "https://localhost:8080/"
        },
        "id": "0MMX361sxW6o",
        "outputId": "58cf82ac-5253-4076-c0e8-fff6033aefa2"
      },
      "execution_count": 91,
      "outputs": [
        {
          "output_type": "stream",
          "name": "stdout",
          "text": [
            "Accuracy for C=0.01: 0.821954484605087\n",
            "Accuracy for C=0.05: 0.8353413654618473\n",
            "Accuracy for C=0.25: 0.8326639892904953\n",
            "Accuracy for C=0.5: 0.8366800535475234\n",
            "Accuracy for C=1: 0.8326639892904953\n"
          ]
        }
      ]
    },
    {
      "cell_type": "markdown",
      "source": [
        "it looks like the value of C that gives us the highest accuracy is 0.05\n"
      ],
      "metadata": {
        "id": "NL72kKRU-LGQ"
      }
    },
    {
      "cell_type": "markdown",
      "source": [
        "# **TRAIN FINAL MODEL**"
      ],
      "metadata": {
        "id": "hKGXVhuX-cBl"
      }
    },
    {
      "cell_type": "code",
      "source": [
        "final_model=LogisticRegression(C=0.05,solver=\"lbfgs\",max_iter=1000)\n",
        "final_model.fit(x_train_cv,y_train_cv)\n",
        "print(\"final accuracy: %s\" %accuracy_score(y_test,final_model.predict(x_test_cv)))"
      ],
      "metadata": {
        "colab": {
          "base_uri": "https://localhost:8080/"
        },
        "id": "ViavAR6n9874",
        "outputId": "4a83672c-5edb-4ab2-e1f8-a5dde2d6693c"
      },
      "execution_count": 92,
      "outputs": [
        {
          "output_type": "stream",
          "name": "stdout",
          "text": [
            "final accuracy: 0.8291457286432161\n"
          ]
        }
      ]
    },
    {
      "cell_type": "markdown",
      "source": [
        "\n",
        "As a sanity check, let's look at the 5 most discriminating words for both positive and negative reviews. We'll do this by looking at the largest and smallest coefficients, respectively"
      ],
      "metadata": {
        "id": "Igv2Z4_s_ui4"
      }
    },
    {
      "cell_type": "code",
      "source": [
        "feature_to_coef={\n",
        "    word:coef for word, coef in zip(cv.get_feature_names_out(),final_model.coef_[0])\n",
        "}\n",
        "\n",
        "for best_positive in sorted(feature_to_coef.items(),key=lambda x:x[1], reverse=True)[:5]:\n",
        "  print(best_positive)\n",
        "\n",
        "for best_negative in sorted(feature_to_coef.items(),key=lambda x:x[1])[:5]:\n",
        "  print(best_negative)"
      ],
      "metadata": {
        "colab": {
          "base_uri": "https://localhost:8080/"
        },
        "id": "XFiAvrxV--77",
        "outputId": "4cffb89a-85c1-477d-b719-e892c4091019"
      },
      "execution_count": 27,
      "outputs": [
        {
          "output_type": "stream",
          "name": "stdout",
          "text": [
            "('excellent', 0.600279087909803)\n",
            "('great', 0.5644817751380315)\n",
            "('wonderful', 0.4074706742872957)\n",
            "('definitely', 0.3800837855057107)\n",
            "('perfect', 0.3710108049801905)\n",
            "('worst', -0.6595806496234844)\n",
            "('bad', -0.602289863093714)\n",
            "('waste', -0.560977110556151)\n",
            "('awful', -0.4242936214661599)\n",
            "('boring', -0.37376711332946827)\n"
          ]
        }
      ]
    },
    {
      "cell_type": "markdown",
      "source": [
        "# **TEXT PROCESSING**"
      ],
      "metadata": {
        "id": "HyPFUCa4HEyZ"
      }
    },
    {
      "cell_type": "code",
      "source": [
        "import nltk\n",
        "nltk.download(\"stopwords\")\n",
        "from nltk.corpus import stopwords\n",
        "from nltk.tokenize import word_tokenize"
      ],
      "metadata": {
        "colab": {
          "base_uri": "https://localhost:8080/"
        },
        "id": "hzASNmamKTMJ",
        "outputId": "4c8f4008-34f7-438f-d523-d45fba1ce288"
      },
      "execution_count": 28,
      "outputs": [
        {
          "output_type": "stream",
          "name": "stderr",
          "text": [
            "[nltk_data] Downloading package stopwords to /root/nltk_data...\n",
            "[nltk_data]   Unzipping corpora/stopwords.zip.\n"
          ]
        }
      ]
    },
    {
      "cell_type": "code",
      "source": [
        "import nltk\n",
        "nltk.download(\"stopwords\")\n",
        "from nltk.corpus import stopwords\n",
        "\n",
        "english_stop_words = stopwords.words('english')\n",
        "def remove_stop_words(corpus):\n",
        "  return ' '.join([review for review in corpus.split() if review not in english_stop_words])\n"
      ],
      "metadata": {
        "colab": {
          "base_uri": "https://localhost:8080/"
        },
        "id": "J95xLLPTBPj1",
        "outputId": "10002edb-e365-444f-9da8-55561d301096"
      },
      "execution_count": 29,
      "outputs": [
        {
          "output_type": "stream",
          "name": "stderr",
          "text": [
            "[nltk_data] Downloading package stopwords to /root/nltk_data...\n",
            "[nltk_data]   Package stopwords is already up-to-date!\n"
          ]
        }
      ]
    },
    {
      "cell_type": "code",
      "source": [
        "df[\"review\"]=df[\"review\"].apply(remove_stop_words)\n"
      ],
      "metadata": {
        "id": "8MVfetuhPHq4"
      },
      "execution_count": 54,
      "outputs": []
    },
    {
      "cell_type": "code",
      "source": [
        "df[\"review\"]"
      ],
      "metadata": {
        "colab": {
          "base_uri": "https://localhost:8080/"
        },
        "id": "5xYO0-3hcG5I",
        "outputId": "eaa73c85-8e7b-403c-c532-6276808dccce"
      },
      "execution_count": 55,
      "outputs": [
        {
          "output_type": "execute_result",
          "data": {
            "text/plain": [
              "0       one reviewers mentioned watching 1 oz episode ...\n",
              "1       wonderful little production <br ><br >the film...\n",
              "2       thought wonderful way spend time hot summer we...\n",
              "3       basically theres family little boy jake thinks...\n",
              "4       petter matteis love time money visually stunni...\n",
              "                              ...                        \n",
              "3975    visually cluttered plot less incredibly mind n...\n",
              "3976    okso film well knownand wasnt well publicisedi...\n",
              "3977    reeves plays haji murad hero 1850s russia<br >...\n",
              "3978    brother law wife brought movie one night watch...\n",
              "3979    im big fan zombie movies admit zombie movies u...\n",
              "Name: review, Length: 3980, dtype: object"
            ]
          },
          "metadata": {},
          "execution_count": 55
        }
      ]
    },
    {
      "cell_type": "markdown",
      "source": [
        "**STEMMING**"
      ],
      "metadata": {
        "id": "RDRY-eZMR5rM"
      }
    },
    {
      "cell_type": "code",
      "source": [
        "from nltk.stem.snowball import PorterStemmer\n",
        "def get_stemmed_test(corpus):\n",
        "  from nltk.stem.porter import PorterStemmer\n",
        "  stemmer=PorterStemmer()\n",
        "  return ' '.join([stemmer.stem(review) for review in corpus.split()])"
      ],
      "metadata": {
        "id": "L8aDHCUqRYuq"
      },
      "execution_count": 32,
      "outputs": []
    },
    {
      "cell_type": "code",
      "source": [
        "df[\"review\"]=df[\"review\"].apply(get_stemmed_test)"
      ],
      "metadata": {
        "id": "9eyy-ZWJSpdJ"
      },
      "execution_count": 56,
      "outputs": []
    },
    {
      "cell_type": "code",
      "source": [
        "df[\"review\"]"
      ],
      "metadata": {
        "colab": {
          "base_uri": "https://localhost:8080/"
        },
        "id": "yH9EkY-jSzEr",
        "outputId": "fae0ac6e-3924-483c-dd31-d91942ccc972"
      },
      "execution_count": 57,
      "outputs": [
        {
          "output_type": "execute_result",
          "data": {
            "text/plain": [
              "0       one review mention watch 1 oz episod youll hoo...\n",
              "1       wonder littl product <br ><br >the film techni...\n",
              "2       thought wonder way spend time hot summer weeke...\n",
              "3       basic there famili littl boy jake think there ...\n",
              "4       petter mattei love time money visual stun film...\n",
              "                              ...                        \n",
              "3975    visual clutter plot less incred mind numb rubb...\n",
              "3976    okso film well knownand wasnt well publicisedi...\n",
              "3977    reev play haji murad hero 1850 russia<br ><br ...\n",
              "3978    brother law wife brought movi one night watch ...\n",
              "3979    im big fan zombi movi admit zombi movi usual a...\n",
              "Name: review, Length: 3980, dtype: object"
            ]
          },
          "metadata": {},
          "execution_count": 57
        }
      ]
    },
    {
      "cell_type": "markdown",
      "source": [
        "**LEMMATIZATION**"
      ],
      "metadata": {
        "id": "kSxyDVDtVjNB"
      }
    },
    {
      "cell_type": "code",
      "source": [
        "def get_lemmatized_text(corpus):\n",
        "  nltk.download('wordnet')\n",
        "  from nltk.stem import WordNetLemmatizer\n",
        "  lemmatizer=WordNetLemmatizer()\n",
        "  return ' '.join([lemmatizer.lemmatize(word) for word in corpus.split()])"
      ],
      "metadata": {
        "id": "0BYG_MIzTGXs"
      },
      "execution_count": 35,
      "outputs": []
    },
    {
      "cell_type": "code",
      "source": [
        "df[\"review\"]=df[\"review\"].apply(get_lemmatized_text)"
      ],
      "metadata": {
        "id": "KRsjvfbSW2am"
      },
      "execution_count": null,
      "outputs": []
    },
    {
      "cell_type": "code",
      "source": [
        "df[\"review\"]"
      ],
      "metadata": {
        "colab": {
          "base_uri": "https://localhost:8080/"
        },
        "id": "U0ycS6CKXzEn",
        "outputId": "0f9d360a-3a32-4f8b-b416-4c2cb0ecf939"
      },
      "execution_count": 59,
      "outputs": [
        {
          "output_type": "execute_result",
          "data": {
            "text/plain": [
              "0       one review mention watch 1 oz episod youll hoo...\n",
              "1       wonder littl product <br ><br >the film techni...\n",
              "2       thought wonder way spend time hot summer weeke...\n",
              "3       basic there famili littl boy jake think there ...\n",
              "4       petter mattei love time money visual stun film...\n",
              "                              ...                        \n",
              "3975    visual clutter plot le incred mind numb rubbis...\n",
              "3976    okso film well knownand wasnt well publicisedi...\n",
              "3977    reev play haji murad hero 1850 russia<br ><br ...\n",
              "3978    brother law wife brought movi one night watch ...\n",
              "3979    im big fan zombi movi admit zombi movi usual a...\n",
              "Name: review, Length: 3980, dtype: object"
            ]
          },
          "metadata": {},
          "execution_count": 59
        }
      ]
    },
    {
      "cell_type": "markdown",
      "source": [
        "# **SPLITTING AFTER STEMMING AND LEMMATIZATION**"
      ],
      "metadata": {
        "id": "140EgkI-Abih"
      }
    },
    {
      "cell_type": "code",
      "source": [
        "x=df[\"review\"]\n",
        "y=df[\"sentiment\"]\n",
        "x_train,x_test,y_train,y_test=train_test_split(x,y,test_size=0.25,random_state=1)"
      ],
      "metadata": {
        "id": "JeVWTaDsARn7"
      },
      "execution_count": 60,
      "outputs": []
    },
    {
      "cell_type": "code",
      "source": [
        "from sklearn.feature_extraction.text import CountVectorizer\n",
        "\n",
        "ngram_vectorizer=CountVectorizer(binary=True,ngram_range=(1,3))\n",
        "ngram_vectorizer.fit(x_train)\n",
        "x_ng=ngram_vectorizer.transform(x_train)\n",
        "\n",
        "\n",
        "x_train_ng,x_val,y_train_ng,y_val=train_test_split(x_ng,y_train,train_size=0.75)\n",
        "\n",
        "for c in [0.01,0.05,0.25,0.5,1]:\n",
        "  lr=LogisticRegression(C=c, solver=\"lbfgs\", max_iter=1000)\n",
        "  lr.fit(x_train_ng,y_train_ng)\n",
        "  print(\"Accuracy for C=%s: %s\" %(c, accuracy_score(y_val,lr.predict(x_val))))\n",
        "\n"
      ],
      "metadata": {
        "colab": {
          "base_uri": "https://localhost:8080/"
        },
        "id": "viIQYH0BYQJK",
        "outputId": "e6dbdd2a-03e2-4993-d5af-3858f146ee34"
      },
      "execution_count": 73,
      "outputs": [
        {
          "output_type": "stream",
          "name": "stdout",
          "text": [
            "Accuracy for C=0.01: 0.8406961178045516\n",
            "Accuracy for C=0.05: 0.8406961178045516\n",
            "Accuracy for C=0.25: 0.8514056224899599\n",
            "Accuracy for C=0.5: 0.8500669344042838\n",
            "Accuracy for C=1: 0.8487282463186078\n"
          ]
        }
      ]
    },
    {
      "cell_type": "code",
      "source": [
        "x_test_ng=ngram_vectorizer.transform(x_test)"
      ],
      "metadata": {
        "id": "l7DHTipac01x"
      },
      "execution_count": 74,
      "outputs": []
    },
    {
      "cell_type": "code",
      "source": [
        "final_ngram=LogisticRegression(C=0.5, solver=\"lbfgs\", max_iter=1000)\n",
        "final_ngram.fit(x_train_ng,y_train_ng)\n",
        "print(\"final accuracy: %s\" % accuracy_score(y_test,lr.predict(x_test_ng)))"
      ],
      "metadata": {
        "colab": {
          "base_uri": "https://localhost:8080/"
        },
        "id": "55EWmSui1Xwp",
        "outputId": "72a95282-df21-410f-95f5-a2ebeb40133f"
      },
      "execution_count": 75,
      "outputs": [
        {
          "output_type": "stream",
          "name": "stdout",
          "text": [
            "final accuracy: 0.8231155778894472\n"
          ]
        }
      ]
    },
    {
      "cell_type": "markdown",
      "source": [
        "\n",
        "By simply considering 2-word sequence in addition to single words increased our accuracy by more than 1.6 percentage points."
      ],
      "metadata": {
        "id": "Sf2AYl842mz3"
      }
    },
    {
      "cell_type": "markdown",
      "source": [
        "# **REPRESENTATION**"
      ],
      "metadata": {
        "id": "QQWq1Dvj2-pU"
      }
    },
    {
      "cell_type": "markdown",
      "source": [
        "\n",
        "While this simple approach can work very well, there are ways that we can encode more information into the vector."
      ],
      "metadata": {
        "id": "GL_TGmmK3DG1"
      }
    },
    {
      "cell_type": "markdown",
      "source": [
        "**WORD COUNTS**"
      ],
      "metadata": {
        "id": "qYVO3JwV6CWL"
      }
    },
    {
      "cell_type": "code",
      "source": [
        "wc_vectorizer=CountVectorizer(binary=False)\n",
        "wc_vectorizer.fit(x_train)\n",
        "x_wc=wc_vectorizer.transform(x_train)\n",
        "x_test_wc=wc_vectorizer.transform(x_test)\n",
        "\n",
        "x_train_wc,x_val,y_train_wc,y_val=train_test_split(x_wc,y_train,train_size=0.75)\n",
        "\n",
        "for c in [0.01,0.05,0.25,0.5,1]:\n",
        "  lr=LogisticRegression(C=c, solver=\"lbfgs\", max_iter=1000)\n",
        "  lr.fit(x_train_wc,y_train_wc)\n",
        "  print(\"Accuracy for C=%s: %s\" %(c,accuracy_score(y_val,lr.predict(x_val))))"
      ],
      "metadata": {
        "colab": {
          "base_uri": "https://localhost:8080/"
        },
        "id": "MV7RTUWG2Ngw",
        "outputId": "374ebd5a-8367-4e26-bac6-9765ed4f25d0"
      },
      "execution_count": 88,
      "outputs": [
        {
          "output_type": "stream",
          "name": "stdout",
          "text": [
            "Accuracy for C=0.01: 0.8192771084337349\n",
            "Accuracy for C=0.05: 0.8406961178045516\n",
            "Accuracy for C=0.25: 0.8406961178045516\n",
            "Accuracy for C=0.5: 0.8406961178045516\n",
            "Accuracy for C=1: 0.8353413654618473\n"
          ]
        }
      ]
    },
    {
      "cell_type": "code",
      "source": [
        "final_wc=LogisticRegression(C=1, solver=\"lbfgs\", max_iter=1000)\n",
        "final_wc.fit(x_train_wc,y_train_wc)\n",
        "print(\"Final accuracy: %s\" % accuracy_score(y_test,final_wc.predict(x_test_wc)))"
      ],
      "metadata": {
        "colab": {
          "base_uri": "https://localhost:8080/"
        },
        "id": "0MhVJCko5KFe",
        "outputId": "65bf9639-47c1-4ab9-c7f2-64515e01719c"
      },
      "execution_count": 89,
      "outputs": [
        {
          "output_type": "stream",
          "name": "stdout",
          "text": [
            "Final accuracy: 0.821105527638191\n"
          ]
        }
      ]
    },
    {
      "cell_type": "markdown",
      "source": [],
      "metadata": {
        "id": "xAyJE8cZFJBT"
      }
    },
    {
      "cell_type": "markdown",
      "source": [
        "**TF-IDF**"
      ],
      "metadata": {
        "id": "jGEw6MqG6LBv"
      }
    },
    {
      "cell_type": "markdown",
      "source": [],
      "metadata": {
        "id": "wJAuqh5kFLtB"
      }
    },
    {
      "cell_type": "code",
      "source": [
        "from sklearn.feature_extraction.text import TfidfVectorizer\n",
        "\n",
        "tfidf_vectorizer=TfidfVectorizer()\n",
        "tfidf_vectorizer.fit(x_train)\n",
        "x_tfidf=tfidf_vectorizer.transform(x_train)\n",
        "x_test_tfidf=tfidf_vectorizer.transform(x_test)\n",
        "\n",
        "x_train_tf,x_val,y_train_tf,y_val=train_test_split(x_tfidf,y_train,train_size=0.75)\n",
        "\n",
        "for c in [0.01,0.05,0.25,0.5,1]:\n",
        "  lr=LogisticRegression(C=c, solver=\"lbfgs\", max_iter=1000)\n",
        "  lr.fit(x_train_tf,y_train_tf)\n",
        "  print(\"Accuracy for C=%s: %s\" %(c,accuracy_score(y_val,lr.predict(x_val))))"
      ],
      "metadata": {
        "colab": {
          "base_uri": "https://localhost:8080/"
        },
        "id": "jnWkbugq5sOr",
        "outputId": "c2e29fdf-230f-4b33-c53c-8e266c0fa922"
      },
      "execution_count": 86,
      "outputs": [
        {
          "output_type": "stream",
          "name": "stdout",
          "text": [
            "Accuracy for C=0.01: 0.7443105756358769\n",
            "Accuracy for C=0.05: 0.8072289156626506\n",
            "Accuracy for C=0.25: 0.8406961178045516\n",
            "Accuracy for C=0.5: 0.8420348058902276\n",
            "Accuracy for C=1: 0.8500669344042838\n"
          ]
        }
      ]
    },
    {
      "cell_type": "code",
      "source": [
        "final_tfidf=LogisticRegression(C=1, solver=\"lbfgs\", max_iter=1000)\n",
        "final_tfidf.fit(x_train_tf,y_train_tf)\n",
        "print(\"Final accuracy: %s\" % accuracy_score(y_test,final_tfidf.predict(x_test_tfidf)))"
      ],
      "metadata": {
        "colab": {
          "base_uri": "https://localhost:8080/"
        },
        "id": "6IywfJt37jjP",
        "outputId": "34cb05c2-ac48-4034-957b-c73a074f7f6d"
      },
      "execution_count": 87,
      "outputs": [
        {
          "output_type": "stream",
          "name": "stdout",
          "text": [
            "Final accuracy: 0.8251256281407036\n"
          ]
        }
      ]
    },
    {
      "cell_type": "markdown",
      "source": [
        "# **ALGORITHMS**"
      ],
      "metadata": {
        "id": "CLp8LGAb8ITr"
      }
    },
    {
      "cell_type": "markdown",
      "source": [
        "**SUPPORT VECTOR MACHINES**"
      ],
      "metadata": {
        "id": "n5m7dMMW8SiK"
      }
    },
    {
      "cell_type": "code",
      "source": [],
      "metadata": {
        "id": "rqy7yrMGFUUV"
      },
      "execution_count": null,
      "outputs": []
    },
    {
      "cell_type": "code",
      "source": [
        "from sklearn.svm import LinearSVC\n",
        "\n",
        "ngram_vectorizer=CountVectorizer(binary=True,ngram_range=(1,2))\n",
        "ngram_vectorizer.fit(x_train)\n",
        "x_ng=ngram_vectorizer.transform(x_train)\n",
        "x_test_ng=ngram_vectorizer.transform(x_test)\n",
        "\n",
        "x_train_ng,x_val,y_train_ng,y_val=train_test_split(x_ng,y_train,train_size=0.75)\n",
        "\n",
        "for c in [0.01,0.05,0.25,0.5,1]:\n",
        "  svm=LinearSVC(C=c, max_iter=1000)\n",
        "  svm.fit(x_train_ng,y_train_ng)\n",
        "  print(\"Accuracy for C=%s: %s\" %(c, accuracy_score(y_val,svm.predict(x_val))))\n"
      ],
      "metadata": {
        "colab": {
          "base_uri": "https://localhost:8080/"
        },
        "id": "9chCKMfd70fM",
        "outputId": "d17e67d8-b8ef-4fd2-faa8-d8d9a21b7a3c"
      },
      "execution_count": 71,
      "outputs": [
        {
          "output_type": "stream",
          "name": "stdout",
          "text": [
            "Accuracy for C=0.01: 0.8473895582329317\n",
            "Accuracy for C=0.05: 0.8473895582329317\n",
            "Accuracy for C=0.25: 0.8473895582329317\n",
            "Accuracy for C=0.5: 0.8500669344042838\n",
            "Accuracy for C=1: 0.8500669344042838\n"
          ]
        }
      ]
    },
    {
      "cell_type": "code",
      "source": [
        "final_svm_ngram=LinearSVC(C=0.01, max_iter=1000)\n",
        "final_svm_ngram.fit(x_train_ng,y_train_ng)\n",
        "print(\"Final accuracy: %s\" % accuracy_score(y_test,final_svm_ngram.predict(x_test_ng)))\n"
      ],
      "metadata": {
        "colab": {
          "base_uri": "https://localhost:8080/"
        },
        "id": "6QLRKthh9Lbk",
        "outputId": "00148d0d-abbc-40e4-b728-b0319e41f5a7"
      },
      "execution_count": 72,
      "outputs": [
        {
          "output_type": "stream",
          "name": "stdout",
          "text": [
            "Final accuracy: 0.8321608040201005\n"
          ]
        }
      ]
    },
    {
      "cell_type": "code",
      "source": [],
      "metadata": {
        "id": "Mm-ezJP4-Uo4"
      },
      "execution_count": null,
      "outputs": []
    },
    {
      "cell_type": "markdown",
      "source": [
        "# **FINAL MODEL**"
      ],
      "metadata": {
        "id": "zcUVYuPo-izV"
      }
    },
    {
      "cell_type": "markdown",
      "source": [
        "\n",
        "It can be noticed that removing a small set of stopwords along with an TFIDF and a support vector machine classifier gives me the best results."
      ],
      "metadata": {
        "id": "usyywf3N-o3b"
      }
    },
    {
      "cell_type": "code",
      "source": [
        "\n",
        "stop_words=[\"in\",\"of\",\"at\",\"a\",\"the\"]\n",
        "tfidf_vectorizer=TfidfVectorizer(stop_words=stop_words)\n",
        "tfidf_vectorizer.fit(x_train)\n",
        "x_tfidf=tfidf_vectorizer.transform(x_train)\n",
        "x_test_tfidf=tfidf_vectorizer.transform(x_test)\n",
        "\n",
        "x_train_tf,x_val,y_train_tf,y_val=train_test_split(x_tfidf,y_train,train_size=0.75)\n",
        "\n",
        "for c in [0.01,0.05,0.25,0.5,1]:\n",
        "  svm=LinearSVC(C=c, max_iter=1000)\n",
        "  svm.fit(x_train_tf,y_train_tf)\n",
        "  print(\"Accuracy for C=%s: %s\" %(c, accuracy_score(y_val,svm.predict(x_val))))\n"
      ],
      "metadata": {
        "colab": {
          "base_uri": "https://localhost:8080/"
        },
        "id": "yWdTuzE3-nHm",
        "outputId": "6aa8e79d-743e-4179-8091-ba6964232d44"
      },
      "execution_count": 84,
      "outputs": [
        {
          "output_type": "stream",
          "name": "stdout",
          "text": [
            "Accuracy for C=0.01: 0.8165997322623829\n",
            "Accuracy for C=0.05: 0.8393574297188755\n",
            "Accuracy for C=0.25: 0.8514056224899599\n",
            "Accuracy for C=0.5: 0.85809906291834\n",
            "Accuracy for C=1: 0.856760374832664\n"
          ]
        }
      ]
    },
    {
      "cell_type": "code",
      "source": [
        "final_svm_tfidf=LinearSVC(C=1, max_iter=1000)\n",
        "final_svm_tfidf.fit(x_train_tf,y_train_tf)\n",
        "print(\"Final accuracy: %s\" % accuracy_score(y_test,final_svm_tfidf.predict(x_test_tfidf)))\n"
      ],
      "metadata": {
        "colab": {
          "base_uri": "https://localhost:8080/"
        },
        "id": "tYTBneRVCQbS",
        "outputId": "7e0bcf39-a0b8-4a86-868a-5a906cd59589"
      },
      "execution_count": 85,
      "outputs": [
        {
          "output_type": "stream",
          "name": "stdout",
          "text": [
            "Final accuracy: 0.8341708542713567\n"
          ]
        }
      ]
    },
    {
      "cell_type": "code",
      "source": [],
      "metadata": {
        "id": "XsCv3IMsCs_y"
      },
      "execution_count": null,
      "outputs": []
    }
  ]
}